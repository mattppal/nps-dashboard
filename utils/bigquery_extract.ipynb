{
 "cells": [
  {
   "cell_type": "markdown",
   "id": "a8b210f4",
   "metadata": {},
   "source": [
    "Pull data from the `nps-public-data` [BigQuery project](https://github.com/tonymet/nps-public-data), load to DuckDB tables and export to parquet."
   ]
  },
  {
   "cell_type": "code",
   "execution_count": 1,
   "id": "b79f914f-02fb-48e5-9ec8-e9b0b9075de5",
   "metadata": {},
   "outputs": [
    {
     "name": "stderr",
     "output_type": "stream",
     "text": [
      "/Users/matt/.pyenv/versions/3.10.0/envs/nps-dbt/lib/python3.10/site-packages/google/auth/_default.py:76: UserWarning: Your application has authenticated using end user credentials from Google Cloud SDK without a quota project. You might receive a \"quota exceeded\" or \"API not enabled\" error. See the following page for troubleshooting: https://cloud.google.com/docs/authentication/adc-troubleshooting/user-creds. \n",
      "  warnings.warn(_CLOUD_SDK_CREDENTIALS_WARNING)\n"
     ]
    }
   ],
   "source": [
    "import duckdb\n",
    "from google.cloud import bigquery\n",
    "\n",
    "con = duckdb.connect(\"../dbt/nps_data/nps_data.db\")\n",
    "\n",
    "bqclient = bigquery.Client(project=\"nps-public-data\")\n",
    "\n",
    "dataset_ref = f\"nps-public-data.nps_public_data\""
   ]
  },
  {
   "cell_type": "code",
   "execution_count": 2,
   "id": "d5e91b0c-64bf-429a-8458-7bac22a90c1c",
   "metadata": {},
   "outputs": [
    {
     "name": "stdout",
     "output_type": "stream",
     "text": [
      "nps-public-data.nps_public_data.campgrounds\n",
      "nps-public-data.nps_public_data.parkinglots\n",
      "nps-public-data.nps_public_data.visitorcenters\n",
      "nps-public-data.nps_public_data.webcams\n"
     ]
    },
    {
     "data": {
      "text/plain": [
       "┌──────────┬────────────────────┬────────────────────┬──────────────────────┬──────────────────────────────┬───────────┐\n",
       "│ database │       schema       │        name        │     column_names     │         column_types         │ temporary │\n",
       "│ varchar  │      varchar       │      varchar       │      varchar[]       │          varchar[]           │  boolean  │\n",
       "├──────────┼────────────────────┼────────────────────┼──────────────────────┼──────────────────────────────┼───────────┤\n",
       "│ nps_data │ analysis           │ calendar           │ [date_day, date_we…  │ [TIMESTAMP, DATE, DATE, DA…  │ false     │\n",
       "│ nps_data │ main_seed_data     │ nps_irma_1979_2023 │ [ParkName, UnitCod…  │ [VARCHAR, VARCHAR, VARCHAR…  │ false     │\n",
       "│ nps_data │ nps_data           │ nps_irma_1979_2023 │ [ParkName, UnitCod…  │ [VARCHAR, VARCHAR, VARCHAR…  │ false     │\n",
       "│ nps_data │ raw_nps_api        │ campgrounds        │ [lastIndexedDate, …  │ [VARCHAR, DOUBLE, STRUCT(c…  │ false     │\n",
       "│ nps_data │ raw_nps_api        │ parkinglots        │ [liveStatus, acces…  │ [STRUCT(expirationDate TIM…  │ false     │\n",
       "│ nps_data │ raw_nps_api        │ visitorcenters     │ [lastIndexedDate, …  │ [VARCHAR, DOUBLE, STRUCT(\"…  │ false     │\n",
       "│ nps_data │ raw_nps_api        │ webcams            │ [longitude, url, t…  │ [DOUBLE, VARCHAR, VARCHAR[…  │ false     │\n",
       "│ nps_data │ raw_nps_boundaries │ boundaries         │ [OBJECTID, UNIT_CO…  │ [DOUBLE, VARCHAR, VARCHAR,…  │ false     │\n",
       "│ nps_data │ stg_nps_boundaries │ boundaries         │ [created_by, creat…  │ [VARCHAR, VARCHAR, VARCHAR…  │ false     │\n",
       "│ nps_data │ stg_nps_boundaries │ regions            │ [region]             │ [VARCHAR]                    │ false     │\n",
       "│ nps_data │ stg_nps_boundaries │ states             │ [state]              │ [VARCHAR]                    │ false     │\n",
       "│ nps_data │ stg_nps_irma       │ parks              │ [park_name, unit_c…  │ [VARCHAR, VARCHAR, VARCHAR]  │ false     │\n",
       "│ nps_data │ stg_nps_irma       │ usage_1979_2023    │ [park_name, unit_c…  │ [VARCHAR, VARCHAR, VARCHAR…  │ false     │\n",
       "├──────────┴────────────────────┴────────────────────┴──────────────────────┴──────────────────────────────┴───────────┤\n",
       "│ 13 rows                                                                                                    6 columns │\n",
       "└──────────────────────────────────────────────────────────────────────────────────────────────────────────────────────┘"
      ]
     },
     "execution_count": 2,
     "metadata": {},
     "output_type": "execute_result"
    }
   ],
   "source": [
    "schema = \"raw_nps_api\"\n",
    "\n",
    "con.sql(f\"CREATE SCHEMA IF NOT EXISTS {schema}\")\n",
    "\n",
    "select_table = ['parks', 'campgrounds', 'parkinglots', 'webcams', 'visitorcenters']\n",
    "\n",
    "tables = [table for table in bqclient.list_tables(dataset_ref) if table.table_id in select_table]\n",
    "\n",
    "for table in tables:\n",
    "\n",
    "    table_str = f\"{table.project}.{table.dataset_id}.{table.table_id}\"\n",
    "\n",
    "    table = bigquery.TableReference.from_string(table_str)\n",
    "\n",
    "    rows = bqclient.list_rows(table)\n",
    "\n",
    "    # this is a terrible pun\n",
    "    arr_rows = rows.to_arrow(create_bqstorage_client=True)\n",
    "\n",
    "    sql_ref = f\"{schema}.{table.table_id}\"\n",
    "\n",
    "    con.sql(\n",
    "        f\"\"\"\n",
    "        DROP TABLE IF EXISTS {sql_ref};\n",
    "        CREATE TABLE {sql_ref} AS SELECT * FROM arr_rows;\n",
    "        \"\"\"\n",
    "    )\n",
    "\n",
    "    print(table_str)\n",
    "\n",
    "con.sql(\"SHOW ALL tables\")"
   ]
  },
  {
   "cell_type": "code",
   "execution_count": null,
   "id": "63997488",
   "metadata": {},
   "outputs": [],
   "source": []
  }
 ],
 "metadata": {
  "kernelspec": {
   "display_name": "lil-cdt",
   "language": "python",
   "name": "python3"
  },
  "language_info": {
   "codemirror_mode": {
    "name": "ipython",
    "version": 3
   },
   "file_extension": ".py",
   "mimetype": "text/x-python",
   "name": "python",
   "nbconvert_exporter": "python",
   "pygments_lexer": "ipython3",
   "version": "3.10.0"
  }
 },
 "nbformat": 4,
 "nbformat_minor": 5
}
